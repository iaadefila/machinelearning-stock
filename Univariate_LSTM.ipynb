{
  "nbformat": 4,
  "nbformat_minor": 0,
  "metadata": {
    "colab": {
      "name": "Univariate_LSTM.ipynb",
      "provenance": [],
      "collapsed_sections": []
    },
    "kernelspec": {
      "name": "python3",
      "display_name": "Python 3"
    }
  },
  "cells": [
    {
      "cell_type": "code",
      "metadata": {
        "id": "2SC4PaOl8wKA",
        "colab": {
          "base_uri": "https://localhost:8080/"
        },
        "outputId": "c20bcbb5-4c9f-4bd3-9f33-8fe125b02345"
      },
      "source": [
        "from google.colab import drive\r\n",
        "drive.mount('/content/drive')"
      ],
      "execution_count": 1,
      "outputs": [
        {
          "output_type": "stream",
          "text": [
            "Mounted at /content/drive\n"
          ],
          "name": "stdout"
        }
      ]
    },
    {
      "cell_type": "code",
      "metadata": {
        "id": "sf9xVEEQ82nF"
      },
      "source": [
        "# Importing dependencies\r\n",
        "\r\n",
        "import numpy as np\r\n",
        "np.random.seed(1)\r\n",
        "\r\n",
        "import pandas as pd\r\n",
        "import matplotlib.pyplot as plt\r\n",
        "from keras.models import Sequential, load_model\r\n",
        "from keras.layers.core import Dense\r\n",
        "from keras.layers.recurrent import LSTM\r\n",
        "from keras import optimizers\r\n",
        "from keras.callbacks import EarlyStopping\r\n",
        "from sklearn.preprocessing import MinMaxScaler\r\n",
        "from sklearn.metrics import mean_squared_error, r2_score\r\n",
        "from math import sqrt\r\n",
        "import datetime as dt\r\n",
        "import time\r\n",
        "import keras\r\n",
        "plt.style.use('ggplot')\r\n",
        "from keras.layers import Dense, Dropout"
      ],
      "execution_count": 2,
      "outputs": []
    },
    {
      "cell_type": "code",
      "metadata": {
        "id": "COfVXmof86He",
        "colab": {
          "base_uri": "https://localhost:8080/",
          "height": 235
        },
        "outputId": "d3e35316-110e-4b89-9ba3-6816d9657e01"
      },
      "source": [
        "# Loading the dataset\r\n",
        "#Note you need to upload the dataset here \r\n",
        "df = pd.read_csv(\"/content/drive/My Drive/Dissertation/Fundy/stockCATT.csv\",parse_dates = True,index_col=0)\r\n",
        "df.head()"
      ],
      "execution_count": 3,
      "outputs": [
        {
          "output_type": "execute_result",
          "data": {
            "text/html": [
              "<div>\n",
              "<style scoped>\n",
              "    .dataframe tbody tr th:only-of-type {\n",
              "        vertical-align: middle;\n",
              "    }\n",
              "\n",
              "    .dataframe tbody tr th {\n",
              "        vertical-align: top;\n",
              "    }\n",
              "\n",
              "    .dataframe thead th {\n",
              "        text-align: right;\n",
              "    }\n",
              "</style>\n",
              "<table border=\"1\" class=\"dataframe\">\n",
              "  <thead>\n",
              "    <tr style=\"text-align: right;\">\n",
              "      <th></th>\n",
              "      <th>Open</th>\n",
              "      <th>High</th>\n",
              "      <th>Low</th>\n",
              "      <th>Volume</th>\n",
              "      <th>SMA</th>\n",
              "      <th>EMA</th>\n",
              "      <th>MOM</th>\n",
              "      <th>RSI</th>\n",
              "      <th>ROC</th>\n",
              "      <th>MACD</th>\n",
              "      <th>BB</th>\n",
              "      <th>CHAIKIN</th>\n",
              "      <th>STOCH</th>\n",
              "      <th>STOCHD</th>\n",
              "      <th>Close</th>\n",
              "    </tr>\n",
              "    <tr>\n",
              "      <th>Date</th>\n",
              "      <th></th>\n",
              "      <th></th>\n",
              "      <th></th>\n",
              "      <th></th>\n",
              "      <th></th>\n",
              "      <th></th>\n",
              "      <th></th>\n",
              "      <th></th>\n",
              "      <th></th>\n",
              "      <th></th>\n",
              "      <th></th>\n",
              "      <th></th>\n",
              "      <th></th>\n",
              "      <th></th>\n",
              "      <th></th>\n",
              "    </tr>\n",
              "  </thead>\n",
              "  <tbody>\n",
              "    <tr>\n",
              "      <th>2014-06-25</th>\n",
              "      <td>246.0</td>\n",
              "      <td>246.0</td>\n",
              "      <td>238.0</td>\n",
              "      <td>1850.0</td>\n",
              "      <td>216.190476</td>\n",
              "      <td>219.641297</td>\n",
              "      <td>34.0</td>\n",
              "      <td>67.266588</td>\n",
              "      <td>17.821782</td>\n",
              "      <td>9.627825</td>\n",
              "      <td>216.6</td>\n",
              "      <td>8.282992e+05</td>\n",
              "      <td>80.952381</td>\n",
              "      <td>85.807656</td>\n",
              "      <td>238.0</td>\n",
              "    </tr>\n",
              "    <tr>\n",
              "      <th>2014-06-26</th>\n",
              "      <td>228.0</td>\n",
              "      <td>238.0</td>\n",
              "      <td>228.0</td>\n",
              "      <td>21110.0</td>\n",
              "      <td>214.476190</td>\n",
              "      <td>217.805426</td>\n",
              "      <td>28.0</td>\n",
              "      <td>66.497705</td>\n",
              "      <td>13.461538</td>\n",
              "      <td>9.214435</td>\n",
              "      <td>215.1</td>\n",
              "      <td>9.957417e+05</td>\n",
              "      <td>94.117647</td>\n",
              "      <td>92.156863</td>\n",
              "      <td>236.0</td>\n",
              "    </tr>\n",
              "    <tr>\n",
              "      <th>2014-06-30</th>\n",
              "      <td>234.0</td>\n",
              "      <td>234.0</td>\n",
              "      <td>232.0</td>\n",
              "      <td>1500.0</td>\n",
              "      <td>213.142857</td>\n",
              "      <td>215.985969</td>\n",
              "      <td>22.0</td>\n",
              "      <td>64.928560</td>\n",
              "      <td>12.621359</td>\n",
              "      <td>8.756407</td>\n",
              "      <td>213.4</td>\n",
              "      <td>1.147855e+06</td>\n",
              "      <td>82.352941</td>\n",
              "      <td>92.156863</td>\n",
              "      <td>232.0</td>\n",
              "    </tr>\n",
              "    <tr>\n",
              "      <th>2014-07-02</th>\n",
              "      <td>224.0</td>\n",
              "      <td>238.0</td>\n",
              "      <td>224.0</td>\n",
              "      <td>17000.0</td>\n",
              "      <td>211.904762</td>\n",
              "      <td>214.384566</td>\n",
              "      <td>34.0</td>\n",
              "      <td>69.584450</td>\n",
              "      <td>14.423077</td>\n",
              "      <td>8.451703</td>\n",
              "      <td>212.2</td>\n",
              "      <td>1.319687e+06</td>\n",
              "      <td>100.000000</td>\n",
              "      <td>98.039216</td>\n",
              "      <td>238.0</td>\n",
              "    </tr>\n",
              "    <tr>\n",
              "      <th>2014-07-03</th>\n",
              "      <td>228.0</td>\n",
              "      <td>228.0</td>\n",
              "      <td>228.0</td>\n",
              "      <td>25000.0</td>\n",
              "      <td>210.476190</td>\n",
              "      <td>212.023022</td>\n",
              "      <td>22.0</td>\n",
              "      <td>65.677831</td>\n",
              "      <td>9.615385</td>\n",
              "      <td>7.328948</td>\n",
              "      <td>210.6</td>\n",
              "      <td>1.019886e+06</td>\n",
              "      <td>94.117647</td>\n",
              "      <td>89.705882</td>\n",
              "      <td>228.0</td>\n",
              "    </tr>\n",
              "  </tbody>\n",
              "</table>\n",
              "</div>"
            ],
            "text/plain": [
              "             Open   High    Low  ...       STOCH     STOCHD  Close\n",
              "Date                             ...                              \n",
              "2014-06-25  246.0  246.0  238.0  ...   80.952381  85.807656  238.0\n",
              "2014-06-26  228.0  238.0  228.0  ...   94.117647  92.156863  236.0\n",
              "2014-06-30  234.0  234.0  232.0  ...   82.352941  92.156863  232.0\n",
              "2014-07-02  224.0  238.0  224.0  ...  100.000000  98.039216  238.0\n",
              "2014-07-03  228.0  228.0  228.0  ...   94.117647  89.705882  228.0\n",
              "\n",
              "[5 rows x 15 columns]"
            ]
          },
          "metadata": {
            "tags": []
          },
          "execution_count": 3
        }
      ]
    },
    {
      "cell_type": "code",
      "metadata": {
        "id": "VAI4NeQD9gFE",
        "colab": {
          "base_uri": "https://localhost:8080/",
          "height": 252
        },
        "outputId": "c1f73c38-5d88-4e59-cf99-ebe69f54233e"
      },
      "source": [
        "# Extracting the close feature of the series\r\n",
        "predictStockCATTClose = df[['Close']]\r\n",
        "print(predictStockCATTClose.shape)\r\n",
        "predictStockCATTClose.head()"
      ],
      "execution_count": 4,
      "outputs": [
        {
          "output_type": "stream",
          "text": [
            "(1053, 1)\n"
          ],
          "name": "stdout"
        },
        {
          "output_type": "execute_result",
          "data": {
            "text/html": [
              "<div>\n",
              "<style scoped>\n",
              "    .dataframe tbody tr th:only-of-type {\n",
              "        vertical-align: middle;\n",
              "    }\n",
              "\n",
              "    .dataframe tbody tr th {\n",
              "        vertical-align: top;\n",
              "    }\n",
              "\n",
              "    .dataframe thead th {\n",
              "        text-align: right;\n",
              "    }\n",
              "</style>\n",
              "<table border=\"1\" class=\"dataframe\">\n",
              "  <thead>\n",
              "    <tr style=\"text-align: right;\">\n",
              "      <th></th>\n",
              "      <th>Close</th>\n",
              "    </tr>\n",
              "    <tr>\n",
              "      <th>Date</th>\n",
              "      <th></th>\n",
              "    </tr>\n",
              "  </thead>\n",
              "  <tbody>\n",
              "    <tr>\n",
              "      <th>2014-06-25</th>\n",
              "      <td>238.0</td>\n",
              "    </tr>\n",
              "    <tr>\n",
              "      <th>2014-06-26</th>\n",
              "      <td>236.0</td>\n",
              "    </tr>\n",
              "    <tr>\n",
              "      <th>2014-06-30</th>\n",
              "      <td>232.0</td>\n",
              "    </tr>\n",
              "    <tr>\n",
              "      <th>2014-07-02</th>\n",
              "      <td>238.0</td>\n",
              "    </tr>\n",
              "    <tr>\n",
              "      <th>2014-07-03</th>\n",
              "      <td>228.0</td>\n",
              "    </tr>\n",
              "  </tbody>\n",
              "</table>\n",
              "</div>"
            ],
            "text/plain": [
              "            Close\n",
              "Date             \n",
              "2014-06-25  238.0\n",
              "2014-06-26  236.0\n",
              "2014-06-30  232.0\n",
              "2014-07-02  238.0\n",
              "2014-07-03  228.0"
            ]
          },
          "metadata": {
            "tags": []
          },
          "execution_count": 4
        }
      ]
    },
    {
      "cell_type": "code",
      "metadata": {
        "id": "J6XuBxFp90ZE"
      },
      "source": [
        "# Split the historical close stock prices into train and test datasets (1008 Historical Close Stock Prices for Training and 45 Historiacal Close Stock Prices for Testing )\r\n",
        "train = predictStockCATTClose['2014-06-15':'2020-03-01'].sort_index(ascending='True')\r\n",
        "test = predictStockCATTClose['2020-03-02':'2020-06-14'].sort_index(ascending='True')"
      ],
      "execution_count": 5,
      "outputs": []
    },
    {
      "cell_type": "code",
      "metadata": {
        "id": "phPM0ibi-BDU",
        "colab": {
          "base_uri": "https://localhost:8080/"
        },
        "outputId": "7ecc8bfd-0083-41fa-9ca4-925efb3f565e"
      },
      "source": [
        "# Use the MinMaxScaler to scale the data within the range 0-1\r\n",
        "scaler = MinMaxScaler()\r\n",
        "scaler.fit(train)"
      ],
      "execution_count": 6,
      "outputs": [
        {
          "output_type": "execute_result",
          "data": {
            "text/plain": [
              "MinMaxScaler(copy=True, feature_range=(0, 1))"
            ]
          },
          "metadata": {
            "tags": []
          },
          "execution_count": 6
        }
      ]
    },
    {
      "cell_type": "code",
      "metadata": {
        "id": "nO2iwPt3-BRe"
      },
      "source": [
        "scaled_train = scaler.transform(train)\r\n",
        "scaled_test = scaler.transform(test)"
      ],
      "execution_count": 7,
      "outputs": []
    },
    {
      "cell_type": "code",
      "metadata": {
        "id": "jI1caR0B-Ba5"
      },
      "source": [
        "trainingSet = scaled_train\r\n",
        "validationSet = scaled_test"
      ],
      "execution_count": 8,
      "outputs": []
    },
    {
      "cell_type": "code",
      "metadata": {
        "id": "iCg7cLHE-Bjz"
      },
      "source": [
        "# Initialise the early stopping for the LSTM\r\n",
        "early_stop = EarlyStopping(monitor = 'loss',patience = 5)\r\n",
        "\r\n",
        "# Define the epochs parameters\r\n",
        "epochs = [1, 10, 50]\r\n",
        "\r\n",
        "# Define the batch_size parameters\r\n",
        "batchs = [1, 8, 16]\r\n",
        "\r\n",
        "# Define the number of days features parameters\r\n",
        "features = [25, 30, 45]\r\n",
        "\r\n",
        "# Define the lstm_units parameters\r\n",
        "units = [10, 50, 64]\r\n",
        "\r\n",
        "# Define the dropout_prob parameters\r\n",
        "dropouts = [0.3, 0.5, 0.7]\r\n",
        "\r\n",
        "evaluation = []\r\n",
        "\r\n",
        "for epoch in epochs:\r\n",
        "    for batch in batchs:\r\n",
        "        for feature in features:\r\n",
        "            for unit in units:\r\n",
        "                for dropout in dropouts:\r\n",
        "\r\n",
        "                    # Convert the training dataset into x_trainingSet and y_trainingSet array\r\n",
        "                    x_trainingSet, y_trainingSet = [], []\r\n",
        "                    for i in range(feature,len(trainingSet)):\r\n",
        "                        x_trainingSet.append(trainingSet[i-feature:i,0])\r\n",
        "                        y_trainingSet.append(trainingSet[i,0])\r\n",
        "                    x_trainingSet, y_trainingSet = np.array(x_trainingSet), np.array(y_trainingSet)\r\n",
        "\r\n",
        "                    x_trainingSet = np.reshape(x_trainingSet, (x_trainingSet.shape[0],x_trainingSet.shape[1],1))\r\n",
        "\r\n",
        "                    # Instantiate and fit the LSTM Network\r\n",
        "                    lstmodel = Sequential()\r\n",
        "                    lstmodel.add(LSTM(units=unit, return_sequences=True, input_shape=(x_trainingSet.shape[1],1)))\r\n",
        "                    lstmodel.add(Dropout(dropout))\r\n",
        "                    lstmodel.add(LSTM(units=unit))\r\n",
        "                    lstmodel.add(Dropout(dropout))\r\n",
        "                    lstmodel.add(Dense(1))\r\n",
        "\r\n",
        "                    lstmodel.compile(loss='mean_squared_error', optimizer='adam')\r\n",
        "                    lstmodel.fit(x_trainingSet, y_trainingSet, epochs=epoch, batch_size=batch, verbose=0, callbacks = [early_stop])\r\n",
        "\r\n",
        "                    #predicting 251 values, using past no of days in the feature parameter from the trainingSet data\r\n",
        "                    inputs = predictStockCATTClose[len(predictStockCATTClose) - len(validationSet) - feature:].values\r\n",
        "                    inputs = inputs.reshape(-1,1)\r\n",
        "                    inputs  = scaler.transform(inputs)\r\n",
        "\r\n",
        "                    X_validationSet = []\r\n",
        "                    for i in range(feature,inputs.shape[0]):\r\n",
        "                        X_validationSet.append(inputs[i-feature:i,0])\r\n",
        "                    X_validationSet = np.array(X_validationSet)\r\n",
        "\r\n",
        "                    X_validationSet = np.reshape(X_validationSet, (X_validationSet.shape[0],X_validationSet.shape[1],1))\r\n",
        "                    preds = lstmodel.predict(X_validationSet)\r\n",
        "                    preds = scaler.inverse_transform(preds)\r\n",
        "\r\n",
        "                    test['PredClose'] = preds\r\n",
        "                    groundtruth = test['Close'].to_numpy()\r\n",
        "                    predictions = test['PredClose'].to_numpy()\r\n",
        "                    mae = mean_absolute_error(groundtruth, predictions)\r\n",
        "                    mape = np.mean(np.abs((groundtruth, predictions) / groundtruth)) * 100\r\n",
        "                    mse = mean_squared_error(groundtruth, predictions)\r\n",
        "                    rmse = np.sqrt(mean_squared_error(groundtruth, predictions))\r\n",
        "                    # append the LSTM parameters and evaluation matrics in a list [Epochs, Batch Size, Number of Features, LSTM Units, Dropout List, MAE, MAPE, MSE, RMSE]\r\n",
        "                    evaluation.append([epoch, batch, feature, unit, dropout, mae, mape, mse, rmse])"
      ],
      "execution_count": null,
      "outputs": []
    },
    {
      "cell_type": "code",
      "metadata": {
        "id": "CpPJ37tw-Br2"
      },
      "source": [
        "evaluation"
      ],
      "execution_count": null,
      "outputs": []
    },
    {
      "cell_type": "code",
      "metadata": {
        "id": "x2Y_ly3W-B0I"
      },
      "source": [
        "# Declare the n_features and batch variables and initialise early stopping for the LSTM\r\n",
        "# Initialise the early stopping for the LSTM\r\n",
        "early_stop = EarlyStopping(monitor = 'loss',patience = 5)\r\n",
        "\r\n",
        "# Define the epochs parameter\r\n",
        "epochs = 50\r\n",
        "\r\n",
        "# Define the batch_size parameter\r\n",
        "batch = 1\r\n",
        "\r\n",
        "# Define the number of days features parameters\r\n",
        "n_features = 45\r\n",
        "\r\n",
        "# Define the lstm_units parameters\r\n",
        "lstm_units = 50\r\n",
        "\r\n",
        "# Define the dropout_prob parameters\r\n",
        "dropout = 0.3\r\n",
        "\r\n",
        "# Convert the training dataset into x_trainingSet and y_trainingSet array\r\n",
        "x_trainingSet, y_trainingSet = [], []\r\n",
        "for i in range(n_features,len(trainingSet)):\r\n",
        "    x_trainingSet.append(trainingSet[i-n_features:i,0])\r\n",
        "    y_trainingSet.append(trainingSet[i,0])\r\n",
        "x_trainingSet, y_trainingSet = np.array(x_trainingSet), np.array(y_trainingSet)\r\n",
        "\r\n",
        "x_trainingSet = np.reshape(x_trainingSet, (x_trainingSet.shape[0],x_trainingSet.shape[1],1))\r\n",
        "\r\n",
        "# Instantiate and fit the LSTM Network\r\n",
        "lstmodel = Sequential()\r\n",
        "lstmodel.add(LSTM(units=lstm_units, return_sequences=True, input_shape=(x_trainingSet.shape[1],1)))\r\n",
        "lstmodel.add(Dropout(dropout))\r\n",
        "lstmodel.add(LSTM(units=lstm_units))\r\n",
        "lstmodel.add(Dropout(dropout))\r\n",
        "lstmodel.add(Dense(1))\r\n",
        "\r\n",
        "lstmodel.compile(loss='mean_squared_error', optimizer='adam')\r\n",
        "lstmodel.fit(x_trainingSet, y_trainingSet, epochs=epochs, batch_size=batch, verbose=0, callbacks = [early_stop])\r\n",
        "\r\n",
        "#predicting 251 values, using past no of days in the feature parameter from the trainingSet data\r\n",
        "inputs = predictStockCATTClose[len(predictStockCATTClose) - len(validationSet) - n_features:].values\r\n",
        "inputs = inputs.reshape(-1,1)\r\n",
        "inputs  = scaler.transform(inputs)\r\n",
        "\r\n",
        "X_validationSet = []\r\n",
        "for i in range(n_features,inputs.shape[0]):\r\n",
        "    X_validationSet.append(inputs[i-n_features:i,0])\r\n",
        "X_validationSet = np.array(X_validationSet)\r\n",
        "\r\n",
        "X_validationSet = np.reshape(X_validationSet, (X_validationSet.shape[0],X_validationSet.shape[1],1))\r\n",
        "lstmModel_predictions = lstmodel.predict(X_validationSet)\r\n",
        "lstmModel_predictions = scaler.inverse_transform(lstmModel_predictions)"
      ],
      "execution_count": 9,
      "outputs": []
    },
    {
      "cell_type": "code",
      "metadata": {
        "id": "7Dc301pE-B8G",
        "colab": {
          "base_uri": "https://localhost:8080/"
        },
        "outputId": "acb0afdc-afd5-4373-d21c-61d447f73601"
      },
      "source": [
        "lstmodel.summary()"
      ],
      "execution_count": 10,
      "outputs": [
        {
          "output_type": "stream",
          "text": [
            "Model: \"sequential\"\n",
            "_________________________________________________________________\n",
            "Layer (type)                 Output Shape              Param #   \n",
            "=================================================================\n",
            "lstm (LSTM)                  (None, 45, 50)            10400     \n",
            "_________________________________________________________________\n",
            "dropout (Dropout)            (None, 45, 50)            0         \n",
            "_________________________________________________________________\n",
            "lstm_1 (LSTM)                (None, 50)                20200     \n",
            "_________________________________________________________________\n",
            "dropout_1 (Dropout)          (None, 50)                0         \n",
            "_________________________________________________________________\n",
            "dense (Dense)                (None, 1)                 51        \n",
            "=================================================================\n",
            "Total params: 30,651\n",
            "Trainable params: 30,651\n",
            "Non-trainable params: 0\n",
            "_________________________________________________________________\n"
          ],
          "name": "stdout"
        }
      ]
    },
    {
      "cell_type": "code",
      "metadata": {
        "id": "9EmW0Fm3_rHN",
        "colab": {
          "base_uri": "https://localhost:8080/",
          "height": 500
        },
        "outputId": "a4e386e2-d776-4b05-e96f-9e75a8c1b4ba"
      },
      "source": [
        "test['PredClose'] = lstmModel_predictions\r\n",
        "plt.figure(figsize=(16,8))\r\n",
        "plt.plot(train['Close'], label = \"Train Stock Price\")\r\n",
        "plt.plot(test['Close'], label = \"Actual Stock Price\")\r\n",
        "plt.plot(test['PredClose'], label = \"Predicted Stock Price\")\r\n",
        "plt.title(\"LSTM\")\r\n",
        "plt.legend(loc='upper left')\r\n",
        "plt.show()"
      ],
      "execution_count": null,
      "outputs": [
        {
          "output_type": "display_data",
          "data": {
            "image/png": "[encoded data removed]",
            "text/plain": [
              "<Figure size 1152x576 with 1 Axes>"
            ]
          },
          "metadata": {
            "tags": []
          }
        }
      ]
    },
    {
      "cell_type": "code",
      "metadata": {
        "id": "wdZHwEv8_rVh"
      },
      "source": [
        "mae = mean_absolute_error(test, lstmModel_predictions)\r\n",
        "mape = np.mean(np.abs((test, lstmModel_predictions) / test)) * 100\r\n",
        "mse = mean_squared_error(test, lstmModel_predictions)\r\n",
        "rmse = np.sqrt(mean_squared_error(test, lstmModel_predictions))\r\n",
        "\r\n",
        "print(f'The Mean Absolute Error (MAE) for LSTM is {mae}')\r\n",
        "print(f'The Mean Absolute Percentage Error (MAPE) for LSTM is {mape}')\r\n",
        "print(f'The Mean Squared Error (MSE) for LSTM is {mse}')\r\n",
        "print(f'The Root Mean Square Error (RMSE) for LSTM is {rmse}')"
      ],
      "execution_count": null,
      "outputs": []
    }
  ]
}